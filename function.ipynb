{
 "cells": [
  {
   "cell_type": "code",
   "execution_count": 1,
   "id": "a6ada170-4a2e-47c4-9192-88c4b8384c41",
   "metadata": {
    "tags": []
   },
   "outputs": [],
   "source": [
    "#start from page 114\n"
   ]
  },
  {
   "cell_type": "code",
   "execution_count": 5,
   "id": "f5de140c-2d21-4114-97fb-3c203bac4c45",
   "metadata": {
    "tags": []
   },
   "outputs": [
    {
     "name": "stdin",
     "output_type": "stream",
     "text": [
      "if you share your name, we can personalize the messages you see.\n",
      "What is  your first name? eric\n"
     ]
    },
    {
     "name": "stdout",
     "output_type": "stream",
     "text": [
      "Hello eric\n"
     ]
    }
   ],
   "source": [
    "prompt = \"if you share your name, we can personalize the messages you see.\"\n",
    "prompt += \"\\nWhat is  your first name?\"\n",
    "name = input(prompt)\n",
    "print(f\"Hello {name}\")"
   ]
  },
  {
   "cell_type": "markdown",
   "id": "8215cb1e-f29b-4fe6-b6d0-7498640db2b7",
   "metadata": {},
   "source": [
    "## While loops\n"
   ]
  },
  {
   "cell_type": "code",
   "execution_count": 6,
   "id": "9ac694e5-83df-4916-aa4b-f2d6af6f7758",
   "metadata": {
    "tags": []
   },
   "outputs": [],
   "source": [
    "#the for loo takes a collection of items and executs a block of code once for each item in the collection\n",
    "# in contrast, the while loops runs as long as , or while, a certain condition is true"
   ]
  },
  {
   "cell_type": "code",
   "execution_count": 8,
   "id": "7b4ba509-beb9-4a5a-8915-7685bfd12cec",
   "metadata": {
    "tags": []
   },
   "outputs": [
    {
     "name": "stdout",
     "output_type": "stream",
     "text": [
      "1\n",
      "2\n",
      "3\n",
      "4\n",
      "5\n"
     ]
    }
   ],
   "source": [
    "current_number = 1 \n",
    "while current_number <= 5:\n",
    "    print (current_number)\n",
    "    current_number +=1"
   ]
  },
  {
   "cell_type": "code",
   "execution_count": 9,
   "id": "4fc356ed-ae16-4056-8985-4746542ff1cb",
   "metadata": {
    "tags": []
   },
   "outputs": [
    {
     "name": "stdin",
     "output_type": "stream",
     "text": [
      "\n",
      "Enter 'quit' to end the program i want to quit\n"
     ]
    },
    {
     "name": "stdout",
     "output_type": "stream",
     "text": [
      "i want to quit\n"
     ]
    },
    {
     "name": "stdin",
     "output_type": "stream",
     "text": [
      "\n",
      "Enter 'quit' to end the program hey\n"
     ]
    },
    {
     "name": "stdout",
     "output_type": "stream",
     "text": [
      "hey\n"
     ]
    },
    {
     "name": "stdin",
     "output_type": "stream",
     "text": [
      "\n",
      "Enter 'quit' to end the program quit\n"
     ]
    },
    {
     "name": "stdout",
     "output_type": "stream",
     "text": [
      "quit\n"
     ]
    }
   ],
   "source": [
    "prompt = \"\\nTell me something and i will repeat it back to you:\"\n",
    "prompt = \"\\nEnter 'quit' to end the program\"\n",
    "\n",
    "message = \"\"\n",
    "while message != 'quit':\n",
    "    message = input(prompt)\n",
    "    print(message)"
   ]
  },
  {
   "cell_type": "code",
   "execution_count": 10,
   "id": "0f7fc095-560e-4385-a9ed-85fed45759eb",
   "metadata": {
    "tags": []
   },
   "outputs": [
    {
     "name": "stdin",
     "output_type": "stream",
     "text": [
      "\n",
      "Enter 'quit' to end the program yes\n"
     ]
    },
    {
     "name": "stdout",
     "output_type": "stream",
     "text": [
      "yes\n"
     ]
    },
    {
     "name": "stdin",
     "output_type": "stream",
     "text": [
      "\n",
      "Enter 'quit' to end the program quit\n"
     ]
    }
   ],
   "source": [
    "# using a flag\n",
    "prompt = \"\\nTell me something and i will repeat it back to you:\"\n",
    "prompt = \"\\nEnter 'quit' to end the program\"\n",
    "active = True\n",
    "while active: \n",
    "    message = input(prompt)\n",
    "    if message == 'quit':\n",
    "        active = False\n",
    "    else:\n",
    "        print(message)"
   ]
  },
  {
   "cell_type": "code",
   "execution_count": 14,
   "id": "d87c5580-8710-44c1-92a1-be49c52f770b",
   "metadata": {
    "tags": []
   },
   "outputs": [
    {
     "name": "stdin",
     "output_type": "stream",
     "text": [
      "\n",
      "Enter 'quit' to end the program new york\n"
     ]
    },
    {
     "name": "stdout",
     "output_type": "stream",
     "text": [
      " Fuck I also want to visit ['new york']\n"
     ]
    },
    {
     "name": "stdin",
     "output_type": "stream",
     "text": [
      "\n",
      "Enter 'quit' to end the program bulgary\n"
     ]
    },
    {
     "name": "stdout",
     "output_type": "stream",
     "text": [
      " Fuck I also want to visit ['new york', 'bulgary']\n"
     ]
    },
    {
     "name": "stdin",
     "output_type": "stream",
     "text": [
      "\n",
      "Enter 'quit' to end the program mem\n"
     ]
    },
    {
     "name": "stdout",
     "output_type": "stream",
     "text": [
      " Fuck I also want to visit ['new york', 'bulgary', 'mem']\n"
     ]
    },
    {
     "name": "stdin",
     "output_type": "stream",
     "text": [
      "\n",
      "Enter 'quit' to end the program quit\n"
     ]
    }
   ],
   "source": [
    "# using a break to exit a loop\n",
    "prompt = \"\\nTell me every country you have visited:\"\n",
    "prompt = \"\\nEnter 'quit' to end the program\"\n",
    "cities = []\n",
    "while True:\n",
    "    city = input(prompt)\n",
    "    cities.append(city)\n",
    "    if city == 'quit':\n",
    "        break\n",
    "    \n",
    "    else:\n",
    "        print(f\" Fuck I also want to visit {cities}\")"
   ]
  },
  {
   "cell_type": "code",
   "execution_count": 15,
   "id": "8f3bbb6c-a626-4cd4-86d2-69de2f5b907b",
   "metadata": {
    "tags": []
   },
   "outputs": [
    {
     "name": "stdout",
     "output_type": "stream",
     "text": [
      "1\n",
      "3\n",
      "5\n",
      "7\n",
      "9\n",
      "11\n"
     ]
    }
   ],
   "source": [
    "# using continue in a Loop\n",
    "current_number = 0\n",
    "while current_number <= 10:\n",
    "    current_number += 1\n",
    "    if current_number % 2 == 0:\n",
    "        continue\n",
    "    print(current_number)\n",
    "    "
   ]
  },
  {
   "cell_type": "code",
   "execution_count": null,
   "id": "fdb5c186-3dcf-41c6-b34f-ccc0391009d8",
   "metadata": {},
   "outputs": [],
   "source": [
    "# avoiding infinite loops\n",
    "# this loop runs forever\n",
    "#x = 1\n",
    "#while x <= 5:\n",
    "# print(x)\n",
    "#in this moment just press CTRL-C or exit terminal window or just close the program"
   ]
  },
  {
   "cell_type": "markdown",
   "id": "d1274ba4-3e3b-4412-841a-07477651e684",
   "metadata": {},
   "source": [
    "## While Loop with Lists and Dictionaries"
   ]
  },
  {
   "cell_type": "code",
   "execution_count": 19,
   "id": "357113d3-0b0a-4112-9671-60cf67456af2",
   "metadata": {
    "tags": []
   },
   "outputs": [
    {
     "name": "stdout",
     "output_type": "stream",
     "text": [
      "verifying user :Candace\n",
      "verifying user :Maria\n",
      "verifying user :Alice\n",
      "\n",
      "the following are confirmed member:\n",
      "candace\n",
      "maria\n",
      "alice\n"
     ]
    }
   ],
   "source": [
    "unconfirmed_users = ['alice', 'maria', 'candace']\n",
    "confirmed_users = []\n",
    "while unconfirmed_users:\n",
    "    current_user = unconfirmed_users.pop()\n",
    "    print(f\"verifying user :{current_user.title()}\")\n",
    "    confirmed_users.append(current_user)\n",
    "    \n",
    "print(\"\\nthe following are confirmed member:\")\n",
    "for user in confirmed_users:\n",
    "    print(user)"
   ]
  },
  {
   "cell_type": "code",
   "execution_count": 20,
   "id": "dd5cb5f5-9b8a-4c92-9cda-1abdc8ae7704",
   "metadata": {
    "tags": []
   },
   "outputs": [
    {
     "name": "stdin",
     "output_type": "stream",
     "text": [
      "\n",
      "What is your name? albert\n",
      "Which mountain you want to climb someday? your mom\n",
      "would you like to let another person respond? (yes/no) blabla\n",
      "\n",
      "What is your name? no\n",
      "Which mountain you want to climb someday? im scared of mountain\n",
      "would you like to let another person respond? (yes/no) no\n"
     ]
    },
    {
     "name": "stdout",
     "output_type": "stream",
     "text": [
      " the user albert wants to climb your mom in the future\n",
      " the user no wants to climb im scared of mountain in the future\n"
     ]
    }
   ],
   "source": [
    "# filling a dictionary with user input\n",
    "responses = {}\n",
    "polling_is_active = True\n",
    "while polling_is_active:\n",
    "    name = input(\"\\nWhat is your name?\")\n",
    "    response = input(\"Which mountain you want to climb someday?\")\n",
    "    responses[name] = response\n",
    "    \n",
    "    repeat = input(\"would you like to let another person respond? (yes/no)\")\n",
    "    if repeat =='no':\n",
    "        polling_is_active= False\n",
    "#polling is complete show the result\n",
    "for name, response in responses.items():\n",
    "    print(f\" the user {name} wants to climb {response} in the future\")\n",
    "    "
   ]
  },
  {
   "cell_type": "markdown",
   "id": "fbc04746-8e65-44b7-93e4-1cdee8a4e57f",
   "metadata": {},
   "source": [
    "# Function "
   ]
  },
  {
   "cell_type": "code",
   "execution_count": 25,
   "id": "37200eae-7f6c-4119-a8ad-365e4fb687b5",
   "metadata": {
    "tags": []
   },
   "outputs": [
    {
     "name": "stdout",
     "output_type": "stream",
     "text": [
      " I have a cat in my hometown\n",
      " His name is mary\n"
     ]
    }
   ],
   "source": [
    "def greet_world(pet_name, pet_type= 'dog'):\n",
    "    print(f\" I have a {pet_type} in my hometown\")\n",
    "    print(f\" His name is {pet_name}\")\n",
    "    \n",
    "greet_world('mary', 'cat')\n"
   ]
  },
  {
   "cell_type": "markdown",
   "id": "3f87ea9c-376b-43c1-bfad-0f1e31e4d798",
   "metadata": {},
   "source": [
    "using arguments and parameter in function defining and functing calling\n",
    "- positional arguments, when parameter order matters\n",
    "- keyword argument, explicitly write the default value in function (can be changed in function calling)\n",
    "- default values like above, non-default parameter should be position first the followed by default parameter.\n",
    "return value , takes a value from inside a function and sends it back to the line that called the function."
   ]
  },
  {
   "cell_type": "code",
   "execution_count": 27,
   "id": "9974a524-d3f6-43ec-8ce6-88c52c8eb554",
   "metadata": {
    "tags": []
   },
   "outputs": [
    {
     "name": "stdout",
     "output_type": "stream",
     "text": [
      "Albertyo Chandra\n"
     ]
    }
   ],
   "source": [
    "def formatting_name(first_name, last_name):\n",
    "    fullname = f\"{first_name} {last_name}\"\n",
    "    return fullname.title()\n",
    "firstName = 'albertyo'\n",
    "lastName = 'chandra'\n",
    "my_full_name = formatting_name(firstName, lastName)\n",
    "print(my_full_name)"
   ]
  },
  {
   "cell_type": "code",
   "execution_count": 32,
   "id": "01c88f8d-4061-4199-95a5-5d7a1667d4ff",
   "metadata": {
    "tags": []
   },
   "outputs": [
    {
     "name": "stdout",
     "output_type": "stream",
     "text": [
      "Albertyo Chandra\n",
      "Fergie Verrenza Chandra\n"
     ]
    }
   ],
   "source": [
    "#when we want to make parameter optional\n",
    "\n",
    "def formatting_full_name(first_name, last_name, middle_name= ''): #we put middle name at the last because it is default parameter\n",
    "    if middle_name:\n",
    "        full_name = f\"{first_name} {middle_name} {last_name}\"\n",
    "    else:\n",
    "        full_name = f\"{first_name} {last_name}\"\n",
    "    return full_name.title()\n",
    "dic = {'firstname' : 'albertyo', 'lastname': 'chandra'}\n",
    "dic2 = {'firstname' : 'fergie' , 'middlename': 'verrenza' , 'lastname': 'chandra'}\n",
    "my_name = formatting_full_name(dic['firstname'], last_name = dic['lastname'])\n",
    "print(my_name)\n",
    "cc_name = formatting_full_name(dic2['firstname'], dic2['lastname'], dic2.get('middlename', '')) \n",
    "print(cc_name)"
   ]
  },
  {
   "cell_type": "code",
   "execution_count": 36,
   "id": "e64e9f77-d1d2-4349-97a9-3af11f4c648f",
   "metadata": {
    "tags": []
   },
   "outputs": [
    {
     "name": "stdout",
     "output_type": "stream",
     "text": [
      "palembang, indonesia!\n"
     ]
    }
   ],
   "source": [
    "# practice\n",
    "def city_country(city_name, country_name):\n",
    "    country_city = f\"{city_name}, {country_name}\"\n",
    "    print(f\"{country_city}!\")\n",
    "cc = city_country('palembang', 'indonesia')\n"
   ]
  },
  {
   "cell_type": "code",
   "execution_count": 1,
   "id": "03851aa4-a7f1-48ae-9f8a-60653423297f",
   "metadata": {
    "tags": []
   },
   "outputs": [],
   "source": [
    "album = {}\n",
    "def make_album(artist_name, album_title, number_of_songs = None):\n",
    "    album['artist_name'] = artist_name\n",
    "    album['album_title'] = album_title\n",
    "    if number_of_songs:\n",
    "        album['number_of_songs'] = number_of_songs\n",
    "    return album   \n",
    "        "
   ]
  },
  {
   "cell_type": "code",
   "execution_count": 3,
   "id": "541af045-26a3-4228-aae1-f250c5a59968",
   "metadata": {
    "tags": []
   },
   "outputs": [
    {
     "name": "stdout",
     "output_type": "stream",
     "text": [
      "{'artist_name': 'taylor_swift', 'album_title': 'red', 'number_of_songs': 3}\n"
     ]
    }
   ],
   "source": [
    "taylor = make_album('taylor_swift', 'red', 3)\n",
    "print(taylor)"
   ]
  },
  {
   "cell_type": "code",
   "execution_count": 4,
   "id": "fcfc3191-8112-4dc4-a7e5-cfe26f8317b7",
   "metadata": {
    "tags": []
   },
   "outputs": [
    {
     "name": "stdout",
     "output_type": "stream",
     "text": [
      "{'artist_name': 'mark taylor', 'album_title': 'sshuhu', 'number_of_songs': 3}\n"
     ]
    }
   ],
   "source": [
    "mark = make_album('mark taylor', 'sshuhu')\n",
    "print(mark)"
   ]
  },
  {
   "cell_type": "code",
   "execution_count": 13,
   "id": "a7ca93a0-4151-4d5f-b484-ff12f77425b4",
   "metadata": {
    "tags": []
   },
   "outputs": [],
   "source": [
    "def make_album_again(artist_name, album_title, number_of_songs = None):\n",
    "    album_dic = {'artist_name': artist_name, 'album_title': album_title}\n",
    "    if number_of_songs:\n",
    "        album_dic['number_of_songs'] = number_of_songs\n",
    "    return album_dic "
   ]
  },
  {
   "cell_type": "code",
   "execution_count": 14,
   "id": "a00edf23-d47b-4e57-ac56-f3ab81e33b82",
   "metadata": {
    "tags": []
   },
   "outputs": [
    {
     "name": "stdout",
     "output_type": "stream",
     "text": [
      "{'artist_name': 'albert', 'album_title': 'river'}\n"
     ]
    }
   ],
   "source": [
    "albert =make_album_again('albert', 'river')\n",
    "print(albert)"
   ]
  },
  {
   "cell_type": "code",
   "execution_count": 21,
   "id": "a89dbb37-ddb2-444e-ab43-dd37582f4013",
   "metadata": {
    "tags": []
   },
   "outputs": [
    {
     "name": "stdout",
     "output_type": "stream",
     "text": [
      "Please tell me the artist and the album\n",
      "(enter 'quit' anytime you want to leave)\n"
     ]
    },
    {
     "name": "stdin",
     "output_type": "stream",
     "text": [
      "artist name: quit\n"
     ]
    }
   ],
   "source": [
    "while True:\n",
    "    print(\"Please tell me the artist and the album\")\n",
    "    print(\"(enter 'quit' anytime you want to leave)\")\n",
    "    artist = input(\"artist name:\")\n",
    "    if artist==\"quit\":\n",
    "        break\n",
    "    album = input(\"album name:\")\n",
    "    if album ==\"quit\":\n",
    "        break\n",
    "    number = input(\"number of songs: \")\n",
    "    if number==\"quit\":\n",
    "        break\n",
    "    formatted_album = make_album_again(artist, album, number)\n",
    "    print(formatted_album)"
   ]
  },
  {
   "cell_type": "markdown",
   "id": "0f238ebf-6166-46b1-9b60-28f9d4801740",
   "metadata": {},
   "source": [
    "# List in Function"
   ]
  },
  {
   "cell_type": "code",
   "execution_count": 23,
   "id": "2e4b1b75-6996-43e3-af75-5de5817d6f7e",
   "metadata": {
    "tags": []
   },
   "outputs": [
    {
     "name": "stdout",
     "output_type": "stream",
     "text": [
      "Waazup mario\n",
      "Waazup mimi\n",
      "Waazup kauli\n"
     ]
    }
   ],
   "source": [
    "def greet_users(names):\n",
    "    for name in names:\n",
    "        print(f\"Waazup {name}\")\n",
    "lists= ['mario', 'mimi', 'kauli']\n",
    "greet_users(lists)"
   ]
  },
  {
   "cell_type": "code",
   "execution_count": 24,
   "id": "9faf6b56-5251-481a-8168-722c927374e7",
   "metadata": {
    "tags": []
   },
   "outputs": [
    {
     "name": "stdout",
     "output_type": "stream",
     "text": [
      "['lei', 'lai', 'liu']\n"
     ]
    }
   ],
   "source": [
    "#passing arbitrary bnumber of arguments\n",
    "def greet_users(names):\n",
    "    print(names)\n",
    "name = ['lei' ,'lai', 'liu']\n",
    "greet_users(name)"
   ]
  },
  {
   "cell_type": "markdown",
   "id": "77690a9c-2afc-4ea8-a700-26a727bdf235",
   "metadata": {},
   "source": [
    "**mixing positional and arbitrary arguments**\n",
    "if you want a function to accept several different kinds of argumenys, the parameter that accepts an arbitrary number of arguments must be placed last in\n",
    "the function definition. Python matches positional and keyword arguments first and then collects any remaining argumenys in the final parameter.\n"
   ]
  },
  {
   "cell_type": "code",
   "execution_count": 30,
   "id": "9f7ddcb8-4890-446f-b4da-be073ba2cb56",
   "metadata": {
    "tags": []
   },
   "outputs": [
    {
     "name": "stdout",
     "output_type": "stream",
     "text": [
      "today we are gonna cook large pizza with the following toppings:\n",
      " -mayo\n",
      " -cheese\n",
      " -pepperoni\n",
      "today we are gonna cook small pizza with the following toppings:\n",
      " -milk\n"
     ]
    }
   ],
   "source": [
    "def make_pizza(size, *toppings): \n",
    "    print(f\"today we are gonna cook {size} pizza with the following toppings:\")\n",
    "    for topping in toppings:\n",
    "        print(f\" -{topping}\")\n",
    "make_pizza('large', 'mayo', 'cheese', 'pepperoni')\n",
    "make_pizza('small', 'milk')"
   ]
  },
  {
   "cell_type": "markdown",
   "id": "5f1fb5d9-24f3-4fa0-b7b3-ccc3915b39f1",
   "metadata": {},
   "source": [
    "# using arbitrary keyword arguments"
   ]
  },
  {
   "cell_type": "code",
   "execution_count": 34,
   "id": "b467f393-73f0-4662-907f-744de288511b",
   "metadata": {
    "tags": []
   },
   "outputs": [
    {
     "name": "stdout",
     "output_type": "stream",
     "text": [
      "{'field': 'sports', 'hobby': 'stealing', 'first_name': 'albertyo', 'last_name': 'chandra'}\n"
     ]
    }
   ],
   "source": [
    "def build_profile(first, last, **user_info): # the double asterisk cause python to create a dictionary called user_info containing all the extra name-value pairs the function receives\n",
    "    user_info['first_name']= first\n",
    "    user_info['last_name']= last\n",
    "    return user_info\n",
    "user_profile =build_profile(\"albertyo\", \"chandra\", field= 'sports' , hobby = 'stealing')\n",
    "print(user_profile)"
   ]
  },
  {
   "cell_type": "code",
   "execution_count": 38,
   "id": "e2facc2d-6e1c-4184-8a46-69acce272c40",
   "metadata": {
    "tags": []
   },
   "outputs": [
    {
     "name": "stdout",
     "output_type": "stream",
     "text": [
      " I am giving free cheap sandwiches to all you peasants\n",
      " we have \n",
      "['mayo', 'sashimi', 'rendang']\n"
     ]
    }
   ],
   "source": [
    "#practice\n",
    "def make_sandwich(types, *fillings):\n",
    "    print(f\" I am giving free {types} sandwiches to all you peasants\")\n",
    "    for filling in fillings:\n",
    "        print(f\" we have \\n{filling}\")\n",
    "first_type =['mayo', 'sashimi', 'rendang'] # change this to above type of format\n",
    "new_sandwiches = make_sandwich('cheap', first_type)"
   ]
  },
  {
   "cell_type": "code",
   "execution_count": 40,
   "id": "3ca0694a-c4bc-4596-98ba-6268ea4ef8ca",
   "metadata": {
    "tags": []
   },
   "outputs": [
    {
     "name": "stdout",
     "output_type": "stream",
     "text": [
      "{'colour': 'extra white', 'neighbour': 'nice', 'price': 'good', 'location': 'mumbai'}\n"
     ]
    }
   ],
   "source": [
    "def make_house(price, location , **house_info):\n",
    "    house_info['price'] =price\n",
    "    house_info['location'] = location\n",
    "    return house_info\n",
    "house_type = make_house(\"good\", \"mumbai\", colour = 'extra white' , neighbour = 'nice')\n",
    "print(house_type)"
   ]
  },
  {
   "cell_type": "markdown",
   "id": "e35862c4-a57d-4480-b42e-9543edaf3769",
   "metadata": {},
   "source": [
    "read page 150 to know\n",
    "- importing entire module (.py)\n",
    "- importing specific function like\n",
    "from module_name import function_name\n",
    "- importing function as alias\n",
    "from modulen_name import function_name as alias_name\n",
    "- using as to give a module an alias\n",
    "- importing all functions in a module\n",
    "- "
   ]
  }
 ],
 "metadata": {
  "kernelspec": {
   "display_name": "Python 3 (ipykernel)",
   "language": "python",
   "name": "python3"
  },
  "language_info": {
   "codemirror_mode": {
    "name": "ipython",
    "version": 3
   },
   "file_extension": ".py",
   "mimetype": "text/x-python",
   "name": "python",
   "nbconvert_exporter": "python",
   "pygments_lexer": "ipython3",
   "version": "3.10.11"
  }
 },
 "nbformat": 4,
 "nbformat_minor": 5
}
